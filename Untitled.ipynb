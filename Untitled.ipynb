{
 "cells": [
  {
   "cell_type": "code",
   "execution_count": 160,
   "id": "616c819b",
   "metadata": {
    "ExecuteTime": {
     "end_time": "2023-08-27T13:59:34.518455Z",
     "start_time": "2023-08-27T13:59:29.080067Z"
    }
   },
   "outputs": [],
   "source": [
    "import requests\n",
    "import json\n",
    "from bs4 import BeautifulSoup\n",
    "import pandas as pd\n",
    "import streamlit as st"
   ]
  },
  {
   "cell_type": "code",
   "execution_count": 154,
   "id": "f1edf2d7",
   "metadata": {
    "ExecuteTime": {
     "end_time": "2023-08-27T13:50:06.525144Z",
     "start_time": "2023-08-27T13:50:06.209151Z"
    }
   },
   "outputs": [],
   "source": [
    "df = pd.read_json('https://api.wazirx.com/sapi/v1/tickers/24hr')"
   ]
  },
  {
   "cell_type": "code",
   "execution_count": 155,
   "id": "346b2db9",
   "metadata": {
    "ExecuteTime": {
     "end_time": "2023-08-27T13:50:12.689348Z",
     "start_time": "2023-08-27T13:50:12.684825Z"
    }
   },
   "outputs": [],
   "source": [
    "sorted_coin = sorted( df['symbol'] )"
   ]
  },
  {
   "cell_type": "code",
   "execution_count": 157,
   "id": "7985108d",
   "metadata": {
    "ExecuteTime": {
     "end_time": "2023-08-27T13:55:00.447065Z",
     "start_time": "2023-08-27T13:55:00.441098Z"
    }
   },
   "outputs": [
    {
     "data": {
      "text/plain": [
       "465"
      ]
     },
     "execution_count": 157,
     "metadata": {},
     "output_type": "execute_result"
    }
   ],
   "source": [
    "len(sorted_coin)"
   ]
  },
  {
   "cell_type": "code",
   "execution_count": 161,
   "id": "3eb1d24e",
   "metadata": {
    "ExecuteTime": {
     "end_time": "2023-08-27T14:00:22.469835Z",
     "start_time": "2023-08-27T14:00:22.465707Z"
    }
   },
   "outputs": [],
   "source": [
    "col1 = st.sidebar"
   ]
  },
  {
   "cell_type": "code",
   "execution_count": 162,
   "id": "be9c3101",
   "metadata": {
    "ExecuteTime": {
     "end_time": "2023-08-27T14:00:35.966174Z",
     "start_time": "2023-08-27T14:00:35.962393Z"
    }
   },
   "outputs": [],
   "source": [
    "col2 = st.columns(1)"
   ]
  },
  {
   "cell_type": "code",
   "execution_count": 165,
   "id": "5847513c",
   "metadata": {
    "ExecuteTime": {
     "end_time": "2023-08-27T14:02:25.898017Z",
     "start_time": "2023-08-27T14:02:24.772787Z"
    }
   },
   "outputs": [
    {
     "name": "stderr",
     "output_type": "stream",
     "text": [
      "2023-08-27 19:32:25.891 \n",
      "  \u001b[33m\u001b[1mWarning:\u001b[0m to view this Streamlit app on a browser, run it with the following\n",
      "  command:\n",
      "\n",
      "    streamlit run C:\\Users\\pandu\\anaconda3\\lib\\site-packages\\ipykernel_launcher.py [ARGUMENTS]\n"
     ]
    },
    {
     "data": {
      "text/plain": [
       "[]"
      ]
     },
     "execution_count": 165,
     "metadata": {},
     "output_type": "execute_result"
    }
   ],
   "source": [
    "col1.multiselect('crypto', sorted_coin)"
   ]
  },
  {
   "cell_type": "code",
   "execution_count": 167,
   "id": "d9d50f41",
   "metadata": {
    "ExecuteTime": {
     "end_time": "2023-08-27T14:31:45.911929Z",
     "start_time": "2023-08-27T14:31:45.900463Z"
    }
   },
   "outputs": [],
   "source": [
    "fav_coins = ['adainr','adausdt','avaxinr','avaxusdt','uniinr','uniusdt','trxusdt','trxinr','winusdt',\n",
    "             'wininr','flokiinr','flokiusdt','dogeusdt','dogeinr','hotinr','hotusdt','maticinr','maticusdt','ethusdt','ethinr'\n",
    "            'oneinr','oneusdt','xrpinr','xrpusdt','batinr','batusdt','manainr','manausdt','wrxinr','wrxusdt','wininr','winusdt',\n",
    "            'shibinr','shibusdt','eosinr','eosusdt','btcinr','btcusdt']"
   ]
  },
  {
   "cell_type": "code",
   "execution_count": null,
   "id": "09e8a406",
   "metadata": {},
   "outputs": [],
   "source": []
  }
 ],
 "metadata": {
  "kernelspec": {
   "display_name": "Python 3 (ipykernel)",
   "language": "python",
   "name": "python3"
  },
  "language_info": {
   "codemirror_mode": {
    "name": "ipython",
    "version": 3
   },
   "file_extension": ".py",
   "mimetype": "text/x-python",
   "name": "python",
   "nbconvert_exporter": "python",
   "pygments_lexer": "ipython3",
   "version": "3.10.9"
  },
  "toc": {
   "base_numbering": 1,
   "nav_menu": {},
   "number_sections": true,
   "sideBar": true,
   "skip_h1_title": false,
   "title_cell": "Table of Contents",
   "title_sidebar": "Contents",
   "toc_cell": false,
   "toc_position": {},
   "toc_section_display": true,
   "toc_window_display": false
  },
  "varInspector": {
   "cols": {
    "lenName": 16,
    "lenType": 16,
    "lenVar": 40
   },
   "kernels_config": {
    "python": {
     "delete_cmd_postfix": "",
     "delete_cmd_prefix": "del ",
     "library": "var_list.py",
     "varRefreshCmd": "print(var_dic_list())"
    },
    "r": {
     "delete_cmd_postfix": ") ",
     "delete_cmd_prefix": "rm(",
     "library": "var_list.r",
     "varRefreshCmd": "cat(var_dic_list()) "
    }
   },
   "types_to_exclude": [
    "module",
    "function",
    "builtin_function_or_method",
    "instance",
    "_Feature"
   ],
   "window_display": false
  }
 },
 "nbformat": 4,
 "nbformat_minor": 5
}
